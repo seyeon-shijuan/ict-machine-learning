{
  "nbformat": 4,
  "nbformat_minor": 0,
  "metadata": {
    "colab": {
      "provenance": [],
      "gpuType": "T4"
    },
    "kernelspec": {
      "name": "python3",
      "display_name": "Python 3"
    },
    "language_info": {
      "name": "python"
    },
    "accelerator": "GPU"
  },
  "cells": [
    {
      "cell_type": "markdown",
      "source": [
        "## LSTM"
      ],
      "metadata": {
        "id": "DoDffoKLPxto"
      }
    },
    {
      "cell_type": "code",
      "execution_count": 1,
      "metadata": {
        "id": "MteeXDXz3bBi"
      },
      "outputs": [],
      "source": [
        "import torch\n",
        "import torch.nn as nn\n",
        "import torchvision.transforms as transforms\n",
        "import torchvision.datasets as dataset\n",
        "from torch.autograd import Variable\n",
        "from torch.nn import Parameter\n",
        "from torch import Tensor\n",
        "import torch.nn.functional as F\n",
        "from torch.utils.data import DataLoader\n",
        "import math\n",
        "\n",
        "device = torch.device('cuda:0' if torch.cuda.is_available() else 'cpu')\n",
        "cuda = True if torch.cuda.is_available() else False\n",
        "\n",
        "Tensor = torch.cuda.FloatTensor if cuda else torch.FloatTensor\n",
        "\n",
        "torch.manual_seed(125)\n",
        "if torch.cuda.is_available():\n",
        "    torch.cuda.manual_seed_all(125)"
      ]
    },
    {
      "cell_type": "code",
      "source": [
        "import torchvision.transforms as transforms\n",
        "\n",
        "mnist_transform = transforms.Compose([\n",
        "    transforms.ToTensor(),\n",
        "    transforms.Normalize((0.5,), (1.0,))\n",
        "])"
      ],
      "metadata": {
        "id": "WU53DFKYSplI"
      },
      "execution_count": 2,
      "outputs": []
    },
    {
      "cell_type": "code",
      "source": [
        "from torchvision.datasets import MNIST\n",
        "\n",
        "download_root = 'MNIST_DATASET/'\n",
        "\n",
        "train_dataset = MNIST(download_root, transform=mnist_transform, train=True, download=True)\n",
        "valid_dataset = MNIST(download_root, transform=mnist_transform, train=False, download=True)\n",
        "test_dataset = MNIST(download_root, transform=mnist_transform, train=False, download=True)"
      ],
      "metadata": {
        "colab": {
          "base_uri": "https://localhost:8080/"
        },
        "id": "JpMUpPJNUxTf",
        "outputId": "4a1d1d22-1e96-4314-d2ec-a71d083943d9"
      },
      "execution_count": 3,
      "outputs": [
        {
          "output_type": "stream",
          "name": "stdout",
          "text": [
            "Downloading http://yann.lecun.com/exdb/mnist/train-images-idx3-ubyte.gz\n",
            "Downloading http://yann.lecun.com/exdb/mnist/train-images-idx3-ubyte.gz to MNIST_DATASET/MNIST/raw/train-images-idx3-ubyte.gz\n"
          ]
        },
        {
          "output_type": "stream",
          "name": "stderr",
          "text": [
            "100%|██████████| 9912422/9912422 [00:00<00:00, 239419708.64it/s]"
          ]
        },
        {
          "output_type": "stream",
          "name": "stdout",
          "text": [
            "Extracting MNIST_DATASET/MNIST/raw/train-images-idx3-ubyte.gz to MNIST_DATASET/MNIST/raw\n"
          ]
        },
        {
          "output_type": "stream",
          "name": "stderr",
          "text": [
            "\n"
          ]
        },
        {
          "output_type": "stream",
          "name": "stdout",
          "text": [
            "\n",
            "Downloading http://yann.lecun.com/exdb/mnist/train-labels-idx1-ubyte.gz\n",
            "Downloading http://yann.lecun.com/exdb/mnist/train-labels-idx1-ubyte.gz to MNIST_DATASET/MNIST/raw/train-labels-idx1-ubyte.gz\n"
          ]
        },
        {
          "output_type": "stream",
          "name": "stderr",
          "text": [
            "100%|██████████| 28881/28881 [00:00<00:00, 83197591.91it/s]\n"
          ]
        },
        {
          "output_type": "stream",
          "name": "stdout",
          "text": [
            "Extracting MNIST_DATASET/MNIST/raw/train-labels-idx1-ubyte.gz to MNIST_DATASET/MNIST/raw\n",
            "\n",
            "Downloading http://yann.lecun.com/exdb/mnist/t10k-images-idx3-ubyte.gz\n",
            "Downloading http://yann.lecun.com/exdb/mnist/t10k-images-idx3-ubyte.gz to MNIST_DATASET/MNIST/raw/t10k-images-idx3-ubyte.gz\n"
          ]
        },
        {
          "output_type": "stream",
          "name": "stderr",
          "text": [
            "100%|██████████| 1648877/1648877 [00:00<00:00, 71672467.40it/s]"
          ]
        },
        {
          "output_type": "stream",
          "name": "stdout",
          "text": [
            "Extracting MNIST_DATASET/MNIST/raw/t10k-images-idx3-ubyte.gz to MNIST_DATASET/MNIST/raw\n",
            "\n",
            "Downloading http://yann.lecun.com/exdb/mnist/t10k-labels-idx1-ubyte.gz\n"
          ]
        },
        {
          "output_type": "stream",
          "name": "stderr",
          "text": [
            "\n"
          ]
        },
        {
          "output_type": "stream",
          "name": "stdout",
          "text": [
            "Downloading http://yann.lecun.com/exdb/mnist/t10k-labels-idx1-ubyte.gz to MNIST_DATASET/MNIST/raw/t10k-labels-idx1-ubyte.gz\n"
          ]
        },
        {
          "output_type": "stream",
          "name": "stderr",
          "text": [
            "100%|██████████| 4542/4542 [00:00<00:00, 19459171.37it/s]\n"
          ]
        },
        {
          "output_type": "stream",
          "name": "stdout",
          "text": [
            "Extracting MNIST_DATASET/MNIST/raw/t10k-labels-idx1-ubyte.gz to MNIST_DATASET/MNIST/raw\n",
            "\n"
          ]
        }
      ]
    },
    {
      "cell_type": "code",
      "source": [
        "batch_size = 64\n",
        "train_loader = DataLoader(dataset=train_dataset,\n",
        "                         batch_size=batch_size,\n",
        "                         shuffle=True)\n",
        "valid_loader = DataLoader(dataset=valid_dataset,\n",
        "                         batch_size=batch_size,\n",
        "                         shuffle=True)\n",
        "test_loader = DataLoader(dataset=test_dataset,\n",
        "                         batch_size=batch_size,\n",
        "                         shuffle=True)"
      ],
      "metadata": {
        "id": "dX6bxfZHU0RG"
      },
      "execution_count": 4,
      "outputs": []
    },
    {
      "cell_type": "code",
      "source": [
        "batch_size = 100\n",
        "n_iters = 6000\n",
        "num_epochs = n_iters / (len(train_dataset) / batch_size)\n",
        "num_epochs = int(num_epochs)"
      ],
      "metadata": {
        "id": "MD6mwk-YA0_r"
      },
      "execution_count": 10,
      "outputs": []
    },
    {
      "cell_type": "code",
      "source": [
        "class LSTMCell(nn.Module):\n",
        "    def __init__(self, input_size, hidden_size, bias=True):\n",
        "        super(LSTMCell, self).__init__()\n",
        "        self.input_size = input_size\n",
        "        self.hidden_size = hidden_size\n",
        "        self.bias = bias\n",
        "        self.x2h = nn.Linear(input_size, 4 * hidden_size, bias=bias)\n",
        "        self.h2h = nn.Linear(hidden_size, 4 * hidden_size, bias=bias)\n",
        "        self.reset_parameters()\n",
        "\n",
        "    def reset_parameters(self):\n",
        "        std = 1.0 / math.sqrt(self.hidden_size)\n",
        "        for w in self.parameters():\n",
        "            w.data.uniform_(-std, std)\n",
        "\n",
        "    def forward(self, x, hidden):\n",
        "        hx, cx = hidden\n",
        "        x = x.view(-1, x.size(1))\n",
        "\n",
        "        gates = self.x2h(x) + self.h2h(hx)\n",
        "        gates = gates.squeeze()\n",
        "        ingate, forgetgate, cellgate, outgate = gates.chunk(4, 1)\n",
        "\n",
        "        ingate = F.sigmoid(ingate)\n",
        "        forgetgate = F.sigmoid(forgetgate)\n",
        "        cellgate = F.tanh(cellgate)\n",
        "        outgate = F.sigmoid(outgate)\n",
        "\n",
        "        cy = torch.mul(cx, forgetgate) +  torch.mul(ingate, cellgate)\n",
        "        hy = torch.mul(outgate, F.tanh(cy))\n",
        "        return (hy, cy)"
      ],
      "metadata": {
        "id": "6m80wasWdpiq"
      },
      "execution_count": 5,
      "outputs": []
    },
    {
      "cell_type": "code",
      "source": [
        "class LSTMModel(nn.Module):\n",
        "    def __init__(self, input_dim, hidden_dim, layer_dim, output_dim, bias=True):\n",
        "        super(LSTMModel, self).__init__()\n",
        "        self.hidden_dim = hidden_dim\n",
        "\n",
        "        self.layer_dim = layer_dim\n",
        "        self.lstm = LSTMCell(input_dim, hidden_dim, layer_dim)\n",
        "        self.fc = nn.Linear(hidden_dim, output_dim)\n",
        "\n",
        "    def forward(self, x):\n",
        "        if torch.cuda.is_available():\n",
        "            h0 = Variable(torch.zeros(self.layer_dim, x.size(0), self.hidden_dim).cuda())\n",
        "        else:\n",
        "            h0 = Variable(torch.zeros(self.layer_dim, x.size(0), self.hidden_dim))\n",
        "\n",
        "        if torch.cuda.is_available():\n",
        "            c0 = Variable(torch.zeros(self.layer_dim, x.size(0), self.hidden_dim).cuda())\n",
        "        else:\n",
        "            c0 = Variable(torch.zeros(self.layer_dim, x.size(0), hidden_dim))\n",
        "\n",
        "        outs = []\n",
        "        cn = c0[0,:,:]\n",
        "        hn = h0[0,:,:]\n",
        "\n",
        "        for seq in range(x.size(1)):\n",
        "            hn, cn = self.lstm(x[:,seq,:], (hn,cn))\n",
        "            outs.append(hn)\n",
        "\n",
        "        out = outs[-1].squeeze()\n",
        "        out = self.fc(out)\n",
        "        return out"
      ],
      "metadata": {
        "id": "bo7PmRUaed1T"
      },
      "execution_count": 6,
      "outputs": []
    },
    {
      "cell_type": "code",
      "source": [
        "input_dim = 28\n",
        "hidden_dim = 128\n",
        "layer_dim = 1\n",
        "output_dim = 10\n",
        "\n",
        "model = LSTMModel(input_dim, hidden_dim,layer_dim, output_dim)\n",
        "if torch.cuda.is_available():\n",
        "  model.cuda()\n",
        "\n",
        "criterion = nn.CrossEntropyLoss()\n",
        "learning_rate = 0.1\n",
        "optimizer = torch.optim.SGD(model.parameters(), lr=learning_rate)"
      ],
      "metadata": {
        "id": "Z3tM8Jj6n_6b"
      },
      "execution_count": 7,
      "outputs": []
    },
    {
      "cell_type": "code",
      "source": [
        "seq_dim = 28\n",
        "loss_list = []\n",
        "iter = 0\n",
        "for epoch in range(num_epochs):\n",
        "    for i, (images, labels) in enumerate(train_loader):\n",
        "        if torch.cuda.is_available():\n",
        "            images = Variable(images.view(-1, seq_dim, input_dim).cuda())\n",
        "            labels = Variable(labels.cuda())\n",
        "        else:\n",
        "            images = Variable(images.view(-1, seq_dim, input_dim))\n",
        "            labels = Variable(labels)\n",
        "\n",
        "        optimizer.zero_grad()\n",
        "        outputs = model(images)\n",
        "        loss = criterion(outputs, labels)\n",
        "\n",
        "        if torch.cuda.is_available():\n",
        "            loss.cuda()\n",
        "\n",
        "        loss.backward()\n",
        "        optimizer.step()\n",
        "        loss_list.append(loss.item())\n",
        "        iter += 1\n",
        "\n",
        "        if iter % 500 == 0:\n",
        "            correct = 0\n",
        "            total = 0\n",
        "            for images, labels in valid_loader:\n",
        "                if torch.cuda.is_available():\n",
        "                    images = Variable(images.view(-1, seq_dim, input_dim).cuda())\n",
        "                else:\n",
        "                    images = Variable(images.view(-1 , seq_dim, input_dim))\n",
        "\n",
        "                outputs = model(images)\n",
        "                _, predicted = torch.max(outputs.data, 1)\n",
        "\n",
        "                total += labels.size(0)\n",
        "                if torch.cuda.is_available():\n",
        "                    correct += (predicted.cpu() == labels.cpu()).sum()\n",
        "                else:\n",
        "                    correct += (predicted == labels).sum()\n",
        "\n",
        "            accuracy = 100 * correct / total\n",
        "            print('Iteration: {}. Loss: {}. Accuracy: {}'.format(iter, loss.item(), accuracy))"
      ],
      "metadata": {
        "colab": {
          "base_uri": "https://localhost:8080/"
        },
        "id": "baYQdmlFACVX",
        "outputId": "fea38457-dc8c-4fb5-b8b4-863dd46e139d"
      },
      "execution_count": 11,
      "outputs": [
        {
          "output_type": "stream",
          "name": "stdout",
          "text": [
            "Iteration: 500. Loss: 2.237457275390625. Accuracy: 21.420000076293945\n",
            "Iteration: 1000. Loss: 0.9968994855880737. Accuracy: 74.94999694824219\n",
            "Iteration: 1500. Loss: 0.42673957347869873. Accuracy: 88.13999938964844\n",
            "Iteration: 2000. Loss: 0.30981600284576416. Accuracy: 93.56999969482422\n",
            "Iteration: 2500. Loss: 0.0558248832821846. Accuracy: 95.69000244140625\n",
            "Iteration: 3000. Loss: 0.09873700886964798. Accuracy: 95.58000183105469\n",
            "Iteration: 3500. Loss: 0.08254366368055344. Accuracy: 96.8499984741211\n",
            "Iteration: 4000. Loss: 0.03308983892202377. Accuracy: 97.08000183105469\n",
            "Iteration: 4500. Loss: 0.049307383596897125. Accuracy: 97.08000183105469\n",
            "Iteration: 5000. Loss: 0.08068697154521942. Accuracy: 96.69999694824219\n",
            "Iteration: 5500. Loss: 0.12790139019489288. Accuracy: 97.30999755859375\n",
            "Iteration: 6000. Loss: 0.007093742024153471. Accuracy: 97.66000366210938\n",
            "Iteration: 6500. Loss: 0.011727366596460342. Accuracy: 97.63999938964844\n",
            "Iteration: 7000. Loss: 0.008610538206994534. Accuracy: 98.06999969482422\n",
            "Iteration: 7500. Loss: 0.027341270819306374. Accuracy: 97.8499984741211\n",
            "Iteration: 8000. Loss: 0.10305538773536682. Accuracy: 97.5199966430664\n",
            "Iteration: 8500. Loss: 0.007204337045550346. Accuracy: 98.13999938964844\n",
            "Iteration: 9000. Loss: 0.012087937444448471. Accuracy: 97.4800033569336\n"
          ]
        }
      ]
    },
    {
      "cell_type": "code",
      "source": [
        "def evaluate(model, val_iter):\n",
        "    corrects, total, total_loss = 0, 0, 0\n",
        "    model.eval()\n",
        "    for images, labels in val_iter:\n",
        "        if torch.cuda.is_available():\n",
        "            images = Variable(images.view(-1, seq_dim, input_dim).cuda())\n",
        "        else:\n",
        "            images = Variable(images.view(-1 , seq_dim, input_dim)).to(device)\n",
        "        labels = labels.cuda()\n",
        "        logit = model(images).cuda()\n",
        "        loss = F.cross_entropy(logit, labels, reduction = \"sum\")\n",
        "        _, predicted = torch.max(logit.data, 1)\n",
        "        total += labels.size(0)\n",
        "        total_loss += loss.item()\n",
        "        corrects += (predicted == labels).sum()\n",
        "\n",
        "    avg_loss = total_loss / len(val_iter.dataset)\n",
        "    avg_accuracy = corrects / total\n",
        "    return avg_loss, avg_accuracy"
      ],
      "metadata": {
        "id": "BR7AIlUWAVUV"
      },
      "execution_count": 12,
      "outputs": []
    },
    {
      "cell_type": "code",
      "source": [
        "test_loss, test_acc = evaluate(model, test_loader)\n",
        "print(\"Test Loss: %5.2f | Test Accuracy: %5.2f\" % (test_loss, test_acc))"
      ],
      "metadata": {
        "colab": {
          "base_uri": "https://localhost:8080/"
        },
        "id": "fOySGbCyHnpt",
        "outputId": "a87b9044-bece-4273-d360-60310a4b50ff"
      },
      "execution_count": 13,
      "outputs": [
        {
          "output_type": "stream",
          "name": "stdout",
          "text": [
            "Test Loss:  0.07 | Test Accuracy:  0.98\n"
          ]
        }
      ]
    },
    {
      "cell_type": "markdown",
      "source": [
        "## 스타벅스 주가 예측"
      ],
      "metadata": {
        "id": "Cv864W0EPuAM"
      }
    },
    {
      "cell_type": "code",
      "source": [
        "from google.colab import files # 데이터 불러오기\n",
        "file_uploaded=files.upload()"
      ],
      "metadata": {
        "colab": {
          "base_uri": "https://localhost:8080/",
          "height": 77
        },
        "id": "zYMHNnwRH2aR",
        "outputId": "38591ee4-12a9-45e0-8e39-fd3fe120feec"
      },
      "execution_count": 14,
      "outputs": [
        {
          "output_type": "display_data",
          "data": {
            "text/plain": [
              "<IPython.core.display.HTML object>"
            ],
            "text/html": [
              "\n",
              "     <input type=\"file\" id=\"files-99b25bd1-ca6e-4fd9-a63d-03a88b9dfbec\" name=\"files[]\" multiple disabled\n",
              "        style=\"border:none\" />\n",
              "     <output id=\"result-99b25bd1-ca6e-4fd9-a63d-03a88b9dfbec\">\n",
              "      Upload widget is only available when the cell has been executed in the\n",
              "      current browser session. Please rerun this cell to enable.\n",
              "      </output>\n",
              "      <script>// Copyright 2017 Google LLC\n",
              "//\n",
              "// Licensed under the Apache License, Version 2.0 (the \"License\");\n",
              "// you may not use this file except in compliance with the License.\n",
              "// You may obtain a copy of the License at\n",
              "//\n",
              "//      http://www.apache.org/licenses/LICENSE-2.0\n",
              "//\n",
              "// Unless required by applicable law or agreed to in writing, software\n",
              "// distributed under the License is distributed on an \"AS IS\" BASIS,\n",
              "// WITHOUT WARRANTIES OR CONDITIONS OF ANY KIND, either express or implied.\n",
              "// See the License for the specific language governing permissions and\n",
              "// limitations under the License.\n",
              "\n",
              "/**\n",
              " * @fileoverview Helpers for google.colab Python module.\n",
              " */\n",
              "(function(scope) {\n",
              "function span(text, styleAttributes = {}) {\n",
              "  const element = document.createElement('span');\n",
              "  element.textContent = text;\n",
              "  for (const key of Object.keys(styleAttributes)) {\n",
              "    element.style[key] = styleAttributes[key];\n",
              "  }\n",
              "  return element;\n",
              "}\n",
              "\n",
              "// Max number of bytes which will be uploaded at a time.\n",
              "const MAX_PAYLOAD_SIZE = 100 * 1024;\n",
              "\n",
              "function _uploadFiles(inputId, outputId) {\n",
              "  const steps = uploadFilesStep(inputId, outputId);\n",
              "  const outputElement = document.getElementById(outputId);\n",
              "  // Cache steps on the outputElement to make it available for the next call\n",
              "  // to uploadFilesContinue from Python.\n",
              "  outputElement.steps = steps;\n",
              "\n",
              "  return _uploadFilesContinue(outputId);\n",
              "}\n",
              "\n",
              "// This is roughly an async generator (not supported in the browser yet),\n",
              "// where there are multiple asynchronous steps and the Python side is going\n",
              "// to poll for completion of each step.\n",
              "// This uses a Promise to block the python side on completion of each step,\n",
              "// then passes the result of the previous step as the input to the next step.\n",
              "function _uploadFilesContinue(outputId) {\n",
              "  const outputElement = document.getElementById(outputId);\n",
              "  const steps = outputElement.steps;\n",
              "\n",
              "  const next = steps.next(outputElement.lastPromiseValue);\n",
              "  return Promise.resolve(next.value.promise).then((value) => {\n",
              "    // Cache the last promise value to make it available to the next\n",
              "    // step of the generator.\n",
              "    outputElement.lastPromiseValue = value;\n",
              "    return next.value.response;\n",
              "  });\n",
              "}\n",
              "\n",
              "/**\n",
              " * Generator function which is called between each async step of the upload\n",
              " * process.\n",
              " * @param {string} inputId Element ID of the input file picker element.\n",
              " * @param {string} outputId Element ID of the output display.\n",
              " * @return {!Iterable<!Object>} Iterable of next steps.\n",
              " */\n",
              "function* uploadFilesStep(inputId, outputId) {\n",
              "  const inputElement = document.getElementById(inputId);\n",
              "  inputElement.disabled = false;\n",
              "\n",
              "  const outputElement = document.getElementById(outputId);\n",
              "  outputElement.innerHTML = '';\n",
              "\n",
              "  const pickedPromise = new Promise((resolve) => {\n",
              "    inputElement.addEventListener('change', (e) => {\n",
              "      resolve(e.target.files);\n",
              "    });\n",
              "  });\n",
              "\n",
              "  const cancel = document.createElement('button');\n",
              "  inputElement.parentElement.appendChild(cancel);\n",
              "  cancel.textContent = 'Cancel upload';\n",
              "  const cancelPromise = new Promise((resolve) => {\n",
              "    cancel.onclick = () => {\n",
              "      resolve(null);\n",
              "    };\n",
              "  });\n",
              "\n",
              "  // Wait for the user to pick the files.\n",
              "  const files = yield {\n",
              "    promise: Promise.race([pickedPromise, cancelPromise]),\n",
              "    response: {\n",
              "      action: 'starting',\n",
              "    }\n",
              "  };\n",
              "\n",
              "  cancel.remove();\n",
              "\n",
              "  // Disable the input element since further picks are not allowed.\n",
              "  inputElement.disabled = true;\n",
              "\n",
              "  if (!files) {\n",
              "    return {\n",
              "      response: {\n",
              "        action: 'complete',\n",
              "      }\n",
              "    };\n",
              "  }\n",
              "\n",
              "  for (const file of files) {\n",
              "    const li = document.createElement('li');\n",
              "    li.append(span(file.name, {fontWeight: 'bold'}));\n",
              "    li.append(span(\n",
              "        `(${file.type || 'n/a'}) - ${file.size} bytes, ` +\n",
              "        `last modified: ${\n",
              "            file.lastModifiedDate ? file.lastModifiedDate.toLocaleDateString() :\n",
              "                                    'n/a'} - `));\n",
              "    const percent = span('0% done');\n",
              "    li.appendChild(percent);\n",
              "\n",
              "    outputElement.appendChild(li);\n",
              "\n",
              "    const fileDataPromise = new Promise((resolve) => {\n",
              "      const reader = new FileReader();\n",
              "      reader.onload = (e) => {\n",
              "        resolve(e.target.result);\n",
              "      };\n",
              "      reader.readAsArrayBuffer(file);\n",
              "    });\n",
              "    // Wait for the data to be ready.\n",
              "    let fileData = yield {\n",
              "      promise: fileDataPromise,\n",
              "      response: {\n",
              "        action: 'continue',\n",
              "      }\n",
              "    };\n",
              "\n",
              "    // Use a chunked sending to avoid message size limits. See b/62115660.\n",
              "    let position = 0;\n",
              "    do {\n",
              "      const length = Math.min(fileData.byteLength - position, MAX_PAYLOAD_SIZE);\n",
              "      const chunk = new Uint8Array(fileData, position, length);\n",
              "      position += length;\n",
              "\n",
              "      const base64 = btoa(String.fromCharCode.apply(null, chunk));\n",
              "      yield {\n",
              "        response: {\n",
              "          action: 'append',\n",
              "          file: file.name,\n",
              "          data: base64,\n",
              "        },\n",
              "      };\n",
              "\n",
              "      let percentDone = fileData.byteLength === 0 ?\n",
              "          100 :\n",
              "          Math.round((position / fileData.byteLength) * 100);\n",
              "      percent.textContent = `${percentDone}% done`;\n",
              "\n",
              "    } while (position < fileData.byteLength);\n",
              "  }\n",
              "\n",
              "  // All done.\n",
              "  yield {\n",
              "    response: {\n",
              "      action: 'complete',\n",
              "    }\n",
              "  };\n",
              "}\n",
              "\n",
              "scope.google = scope.google || {};\n",
              "scope.google.colab = scope.google.colab || {};\n",
              "scope.google.colab._files = {\n",
              "  _uploadFiles,\n",
              "  _uploadFilesContinue,\n",
              "};\n",
              "})(self);\n",
              "</script> "
            ]
          },
          "metadata": {}
        },
        {
          "output_type": "stream",
          "name": "stdout",
          "text": [
            "Saving SBUX.csv to SBUX.csv\n"
          ]
        }
      ]
    },
    {
      "cell_type": "code",
      "source": [
        "import os\n",
        "import time\n",
        "\n",
        "import numpy as np\n",
        "import pandas as pd\n",
        "import matplotlib.pyplot as plt\n",
        "\n",
        "import torch\n",
        "import torch.nn as nn\n",
        "from torch.utils.data import TensorDataset, DataLoader\n",
        "from torch.autograd import Variable\n",
        "from tqdm import tqdm_notebook\n",
        "from sklearn.preprocessing import StandardScaler, MinMaxScaler\n",
        "from sklearn.model_selection import train_test_split\n",
        "\n",
        "device = torch.device('cuda:0' if torch.cuda.is_available() else 'cpu')"
      ],
      "metadata": {
        "id": "qstBjp_5PRyo"
      },
      "execution_count": 15,
      "outputs": []
    },
    {
      "cell_type": "code",
      "source": [
        "device"
      ],
      "metadata": {
        "colab": {
          "base_uri": "https://localhost:8080/"
        },
        "id": "3WGK2hKFPplx",
        "outputId": "770f03a2-8d94-474d-96fa-c1e779dfc866"
      },
      "execution_count": 16,
      "outputs": [
        {
          "output_type": "execute_result",
          "data": {
            "text/plain": [
              "device(type='cuda', index=0)"
            ]
          },
          "metadata": {},
          "execution_count": 16
        }
      ]
    },
    {
      "cell_type": "code",
      "source": [
        "data = pd.read_csv('SBUX.csv')\n",
        "print(data.dtypes)"
      ],
      "metadata": {
        "colab": {
          "base_uri": "https://localhost:8080/"
        },
        "id": "vlb5DXLjP6pA",
        "outputId": "94cff369-7c2e-4d63-ab86-520f1850a7d5"
      },
      "execution_count": 17,
      "outputs": [
        {
          "output_type": "stream",
          "name": "stdout",
          "text": [
            "Date          object\n",
            "Open         float64\n",
            "High         float64\n",
            "Low          float64\n",
            "Close        float64\n",
            "Adj Close    float64\n",
            "Volume         int64\n",
            "dtype: object\n"
          ]
        }
      ]
    },
    {
      "cell_type": "code",
      "source": [
        "a = [i for i in data]\n",
        "a"
      ],
      "metadata": {
        "colab": {
          "base_uri": "https://localhost:8080/"
        },
        "id": "D-WEAqFUQHb_",
        "outputId": "84f747b3-1bdf-43b7-b78a-c32b058d8bd5"
      },
      "execution_count": 21,
      "outputs": [
        {
          "output_type": "execute_result",
          "data": {
            "text/plain": [
              "['Date', 'Open', 'High', 'Low', 'Close', 'Adj Close', 'Volume']"
            ]
          },
          "metadata": {},
          "execution_count": 21
        }
      ]
    },
    {
      "cell_type": "code",
      "source": [
        "from google.colab import files # 데이터 불러오기\n",
        "file_uploaded=files.upload()\n",
        "# SBUX_max"
      ],
      "metadata": {
        "colab": {
          "base_uri": "https://localhost:8080/",
          "height": 77
        },
        "id": "plM3ZWnEQVKR",
        "outputId": "8400afe7-d1a0-4603-d93e-4288519376fd"
      },
      "execution_count": 22,
      "outputs": [
        {
          "output_type": "display_data",
          "data": {
            "text/plain": [
              "<IPython.core.display.HTML object>"
            ],
            "text/html": [
              "\n",
              "     <input type=\"file\" id=\"files-38c888ea-63ec-4a7d-9261-b896de762aa0\" name=\"files[]\" multiple disabled\n",
              "        style=\"border:none\" />\n",
              "     <output id=\"result-38c888ea-63ec-4a7d-9261-b896de762aa0\">\n",
              "      Upload widget is only available when the cell has been executed in the\n",
              "      current browser session. Please rerun this cell to enable.\n",
              "      </output>\n",
              "      <script>// Copyright 2017 Google LLC\n",
              "//\n",
              "// Licensed under the Apache License, Version 2.0 (the \"License\");\n",
              "// you may not use this file except in compliance with the License.\n",
              "// You may obtain a copy of the License at\n",
              "//\n",
              "//      http://www.apache.org/licenses/LICENSE-2.0\n",
              "//\n",
              "// Unless required by applicable law or agreed to in writing, software\n",
              "// distributed under the License is distributed on an \"AS IS\" BASIS,\n",
              "// WITHOUT WARRANTIES OR CONDITIONS OF ANY KIND, either express or implied.\n",
              "// See the License for the specific language governing permissions and\n",
              "// limitations under the License.\n",
              "\n",
              "/**\n",
              " * @fileoverview Helpers for google.colab Python module.\n",
              " */\n",
              "(function(scope) {\n",
              "function span(text, styleAttributes = {}) {\n",
              "  const element = document.createElement('span');\n",
              "  element.textContent = text;\n",
              "  for (const key of Object.keys(styleAttributes)) {\n",
              "    element.style[key] = styleAttributes[key];\n",
              "  }\n",
              "  return element;\n",
              "}\n",
              "\n",
              "// Max number of bytes which will be uploaded at a time.\n",
              "const MAX_PAYLOAD_SIZE = 100 * 1024;\n",
              "\n",
              "function _uploadFiles(inputId, outputId) {\n",
              "  const steps = uploadFilesStep(inputId, outputId);\n",
              "  const outputElement = document.getElementById(outputId);\n",
              "  // Cache steps on the outputElement to make it available for the next call\n",
              "  // to uploadFilesContinue from Python.\n",
              "  outputElement.steps = steps;\n",
              "\n",
              "  return _uploadFilesContinue(outputId);\n",
              "}\n",
              "\n",
              "// This is roughly an async generator (not supported in the browser yet),\n",
              "// where there are multiple asynchronous steps and the Python side is going\n",
              "// to poll for completion of each step.\n",
              "// This uses a Promise to block the python side on completion of each step,\n",
              "// then passes the result of the previous step as the input to the next step.\n",
              "function _uploadFilesContinue(outputId) {\n",
              "  const outputElement = document.getElementById(outputId);\n",
              "  const steps = outputElement.steps;\n",
              "\n",
              "  const next = steps.next(outputElement.lastPromiseValue);\n",
              "  return Promise.resolve(next.value.promise).then((value) => {\n",
              "    // Cache the last promise value to make it available to the next\n",
              "    // step of the generator.\n",
              "    outputElement.lastPromiseValue = value;\n",
              "    return next.value.response;\n",
              "  });\n",
              "}\n",
              "\n",
              "/**\n",
              " * Generator function which is called between each async step of the upload\n",
              " * process.\n",
              " * @param {string} inputId Element ID of the input file picker element.\n",
              " * @param {string} outputId Element ID of the output display.\n",
              " * @return {!Iterable<!Object>} Iterable of next steps.\n",
              " */\n",
              "function* uploadFilesStep(inputId, outputId) {\n",
              "  const inputElement = document.getElementById(inputId);\n",
              "  inputElement.disabled = false;\n",
              "\n",
              "  const outputElement = document.getElementById(outputId);\n",
              "  outputElement.innerHTML = '';\n",
              "\n",
              "  const pickedPromise = new Promise((resolve) => {\n",
              "    inputElement.addEventListener('change', (e) => {\n",
              "      resolve(e.target.files);\n",
              "    });\n",
              "  });\n",
              "\n",
              "  const cancel = document.createElement('button');\n",
              "  inputElement.parentElement.appendChild(cancel);\n",
              "  cancel.textContent = 'Cancel upload';\n",
              "  const cancelPromise = new Promise((resolve) => {\n",
              "    cancel.onclick = () => {\n",
              "      resolve(null);\n",
              "    };\n",
              "  });\n",
              "\n",
              "  // Wait for the user to pick the files.\n",
              "  const files = yield {\n",
              "    promise: Promise.race([pickedPromise, cancelPromise]),\n",
              "    response: {\n",
              "      action: 'starting',\n",
              "    }\n",
              "  };\n",
              "\n",
              "  cancel.remove();\n",
              "\n",
              "  // Disable the input element since further picks are not allowed.\n",
              "  inputElement.disabled = true;\n",
              "\n",
              "  if (!files) {\n",
              "    return {\n",
              "      response: {\n",
              "        action: 'complete',\n",
              "      }\n",
              "    };\n",
              "  }\n",
              "\n",
              "  for (const file of files) {\n",
              "    const li = document.createElement('li');\n",
              "    li.append(span(file.name, {fontWeight: 'bold'}));\n",
              "    li.append(span(\n",
              "        `(${file.type || 'n/a'}) - ${file.size} bytes, ` +\n",
              "        `last modified: ${\n",
              "            file.lastModifiedDate ? file.lastModifiedDate.toLocaleDateString() :\n",
              "                                    'n/a'} - `));\n",
              "    const percent = span('0% done');\n",
              "    li.appendChild(percent);\n",
              "\n",
              "    outputElement.appendChild(li);\n",
              "\n",
              "    const fileDataPromise = new Promise((resolve) => {\n",
              "      const reader = new FileReader();\n",
              "      reader.onload = (e) => {\n",
              "        resolve(e.target.result);\n",
              "      };\n",
              "      reader.readAsArrayBuffer(file);\n",
              "    });\n",
              "    // Wait for the data to be ready.\n",
              "    let fileData = yield {\n",
              "      promise: fileDataPromise,\n",
              "      response: {\n",
              "        action: 'continue',\n",
              "      }\n",
              "    };\n",
              "\n",
              "    // Use a chunked sending to avoid message size limits. See b/62115660.\n",
              "    let position = 0;\n",
              "    do {\n",
              "      const length = Math.min(fileData.byteLength - position, MAX_PAYLOAD_SIZE);\n",
              "      const chunk = new Uint8Array(fileData, position, length);\n",
              "      position += length;\n",
              "\n",
              "      const base64 = btoa(String.fromCharCode.apply(null, chunk));\n",
              "      yield {\n",
              "        response: {\n",
              "          action: 'append',\n",
              "          file: file.name,\n",
              "          data: base64,\n",
              "        },\n",
              "      };\n",
              "\n",
              "      let percentDone = fileData.byteLength === 0 ?\n",
              "          100 :\n",
              "          Math.round((position / fileData.byteLength) * 100);\n",
              "      percent.textContent = `${percentDone}% done`;\n",
              "\n",
              "    } while (position < fileData.byteLength);\n",
              "  }\n",
              "\n",
              "  // All done.\n",
              "  yield {\n",
              "    response: {\n",
              "      action: 'complete',\n",
              "    }\n",
              "  };\n",
              "}\n",
              "\n",
              "scope.google = scope.google || {};\n",
              "scope.google.colab = scope.google.colab || {};\n",
              "scope.google.colab._files = {\n",
              "  _uploadFiles,\n",
              "  _uploadFilesContinue,\n",
              "};\n",
              "})(self);\n",
              "</script> "
            ]
          },
          "metadata": {}
        },
        {
          "output_type": "stream",
          "name": "stdout",
          "text": [
            "Saving SBUX_max.csv to SBUX_max.csv\n"
          ]
        }
      ]
    },
    {
      "cell_type": "code",
      "source": [
        "data['Date'] = pd.to_datetime(data['Date'])\n",
        "data.set_index('Date', inplace=True)"
      ],
      "metadata": {
        "id": "tx5FaJ-PRSHQ"
      },
      "execution_count": 23,
      "outputs": []
    },
    {
      "cell_type": "code",
      "source": [
        "data['Volume'] = data['Volume'].astype(float)"
      ],
      "metadata": {
        "id": "et5yvUzQSEPe"
      },
      "execution_count": 24,
      "outputs": []
    },
    {
      "cell_type": "code",
      "source": [
        "X=data.iloc[:,:-1]\n",
        "y=data.iloc[:,5:6]\n",
        "print(X)\n",
        "print(y)"
      ],
      "metadata": {
        "colab": {
          "base_uri": "https://localhost:8080/"
        },
        "id": "FTlXAD5bSHzP",
        "outputId": "043b0ef3-de32-4f89-c98c-6bbe0d4423a3"
      },
      "execution_count": 25,
      "outputs": [
        {
          "output_type": "stream",
          "name": "stdout",
          "text": [
            "                  Open        High         Low       Close   Adj Close\n",
            "Date                                                                  \n",
            "2019-12-11   86.260002   86.870003   85.849998   86.589996   84.145752\n",
            "2019-12-12   88.000000   88.889999   87.540001   88.209999   85.720032\n",
            "2019-12-13   88.019997   88.790001   87.580002   88.669998   86.167046\n",
            "2019-12-16   89.139999   89.300003   88.430000   88.779999   86.273941\n",
            "2019-12-17   88.870003   88.970001   87.470001   88.129997   85.642288\n",
            "...                ...         ...         ...         ...         ...\n",
            "2020-12-04  101.349998  102.940002  101.070000  102.279999  101.442787\n",
            "2020-12-07  102.010002  102.220001  100.690002  101.410004  100.579918\n",
            "2020-12-08  100.370003  101.570000  100.010002  101.209999  100.381554\n",
            "2020-12-09  101.940002  102.209999  100.099998  100.400002   99.578186\n",
            "2020-12-10  103.510002  106.089996  102.750000  105.389999  104.527336\n",
            "\n",
            "[253 rows x 5 columns]\n",
            "                Volume\n",
            "Date                  \n",
            "2019-12-11   4921900.0\n",
            "2019-12-12  10282100.0\n",
            "2019-12-13   6714100.0\n",
            "2019-12-16   6705600.0\n",
            "2019-12-17   7296900.0\n",
            "...                ...\n",
            "2020-12-04   6952700.0\n",
            "2020-12-07   4514800.0\n",
            "2020-12-08   3911300.0\n",
            "2020-12-09   6629900.0\n",
            "2020-12-10  12939200.0\n",
            "\n",
            "[253 rows x 1 columns]\n"
          ]
        }
      ]
    },
    {
      "cell_type": "code",
      "source": [
        "ms = MinMaxScaler()\n",
        "ss = StandardScaler()\n",
        "\n",
        "X_ss = ss.fit_transform(X)\n",
        "y_ms = ms.fit_transform(y)\n",
        "\n",
        "X_train = X_ss[:200, :]\n",
        "X_test = X_ss[200:, :]\n",
        "\n",
        "y_train = y_ms[:200, :]\n",
        "y_test = y_ms[200:, :]\n",
        "\n",
        "print(\"Training Shape\", X_train.shape, y_train.shape)\n",
        "print(\"Testing Shape\", X_test.shape, y_test.shape)"
      ],
      "metadata": {
        "colab": {
          "base_uri": "https://localhost:8080/"
        },
        "id": "N3nf26J0SnbW",
        "outputId": "f9462a0c-4120-40ec-b01d-bbd6ee4fd802"
      },
      "execution_count": 26,
      "outputs": [
        {
          "output_type": "stream",
          "name": "stdout",
          "text": [
            "Training Shape (200, 5) (200, 1)\n",
            "Testing Shape (53, 5) (53, 1)\n"
          ]
        }
      ]
    },
    {
      "cell_type": "code",
      "source": [
        "X_train_tensors = Variable(torch.Tensor(X_train))\n",
        "X_test_tensors = Variable(torch.Tensor(X_test))\n",
        "\n",
        "y_train_tensors = Variable(torch.Tensor(y_train))\n",
        "y_test_tensors = Variable(torch.Tensor(y_test))\n",
        "\n",
        "X_train_tensors_f = torch.reshape(X_train_tensors,   (X_train_tensors.shape[0], 1, X_train_tensors.shape[1]))\n",
        "X_test_tensors_f = torch.reshape(X_test_tensors,  (X_test_tensors.shape[0], 1, X_test_tensors.shape[1]))\n",
        "\n",
        "print(\"Training Shape\", X_train_tensors_f.shape, y_train_tensors.shape)\n",
        "print(\"Testing Shape\", X_test_tensors_f.shape, y_test_tensors.shape)"
      ],
      "metadata": {
        "colab": {
          "base_uri": "https://localhost:8080/"
        },
        "id": "hZ16dCAiT0oG",
        "outputId": "4b3c5013-5032-4a8f-f028-0f0c85216af1"
      },
      "execution_count": 27,
      "outputs": [
        {
          "output_type": "stream",
          "name": "stdout",
          "text": [
            "Training Shape torch.Size([200, 1, 5]) torch.Size([200, 1])\n",
            "Testing Shape torch.Size([53, 1, 5]) torch.Size([53, 1])\n"
          ]
        }
      ]
    },
    {
      "cell_type": "code",
      "source": [
        "class LSTM(nn.Module):\n",
        "    def __init__(self, num_classes, input_size, hidden_size, num_layers, seq_length):\n",
        "        super(LSTM, self).__init__()\n",
        "        self.num_classes = num_classes\n",
        "        self.num_layers = num_layers\n",
        "        self.input_size = input_size\n",
        "        self.hidden_size = hidden_size\n",
        "        self.seq_length = seq_length\n",
        "\n",
        "        self.lstm = nn.LSTM(input_size=input_size, hidden_size=hidden_size,\n",
        "                          num_layers=num_layers, batch_first=True)\n",
        "        self.fc_1 =  nn.Linear(hidden_size, 128)\n",
        "        self.fc = nn.Linear(128, num_classes)\n",
        "\n",
        "        self.relu = nn.ReLU()\n",
        "\n",
        "    def forward(self,x):\n",
        "        h_0 = Variable(torch.zeros(self.num_layers, x.size(0), self.hidden_size))\n",
        "        c_0 = Variable(torch.zeros(self.num_layers, x.size(0), self.hidden_size))\n",
        "\n",
        "        output, (hn, cn) = self.lstm(x, (h_0, c_0))\n",
        "        hn = hn.view(-1, self.hidden_size)\n",
        "        out = self.relu(hn)\n",
        "        out = self.fc_1(out)\n",
        "        out = self.relu(out)\n",
        "        out = self.fc(out)\n",
        "        return out"
      ],
      "metadata": {
        "id": "t0upSf_NWE7u"
      },
      "execution_count": 28,
      "outputs": []
    },
    {
      "cell_type": "code",
      "source": [
        "num_epochs = 1000\n",
        "learning_rate = 0.0001\n",
        "\n",
        "input_size = 5\n",
        "hidden_size = 2\n",
        "num_layers = 1\n",
        "\n",
        "num_classes = 1\n",
        "model = LSTM(num_classes, input_size, hidden_size, num_layers, X_train_tensors_f.shape[1])\n",
        "\n",
        "criterion = torch.nn.MSELoss()\n",
        "optimizer = torch.optim.Adam(model.parameters(), lr=learning_rate)"
      ],
      "metadata": {
        "id": "VTTI9rm_XSju"
      },
      "execution_count": 29,
      "outputs": []
    },
    {
      "cell_type": "code",
      "source": [
        "for epoch in range(num_epochs):\n",
        "    outputs = model.forward(X_train_tensors_f)\n",
        "    optimizer.zero_grad()\n",
        "    loss = criterion(outputs, y_train_tensors)\n",
        "    loss.backward()\n",
        "    optimizer.step()\n",
        "    if epoch % 100 == 0:\n",
        "        print(\"Epoch: %d, loss: %1.5f\" % (epoch, loss.item()))"
      ],
      "metadata": {
        "colab": {
          "base_uri": "https://localhost:8080/"
        },
        "id": "7tC-IZOlYRfG",
        "outputId": "a2644be6-4232-436b-8ca1-91f42c6e63b9"
      },
      "execution_count": 30,
      "outputs": [
        {
          "output_type": "stream",
          "name": "stdout",
          "text": [
            "Epoch: 0, loss: 0.18287\n",
            "Epoch: 100, loss: 0.05713\n",
            "Epoch: 200, loss: 0.03855\n",
            "Epoch: 300, loss: 0.03717\n",
            "Epoch: 400, loss: 0.03599\n",
            "Epoch: 500, loss: 0.03326\n",
            "Epoch: 600, loss: 0.02937\n",
            "Epoch: 700, loss: 0.02517\n",
            "Epoch: 800, loss: 0.02214\n",
            "Epoch: 900, loss: 0.02043\n"
          ]
        }
      ]
    },
    {
      "cell_type": "code",
      "source": [
        "df_x_ss = ss.transform(data.iloc[:, :-1])\n",
        "df_y_ms = ms.transform(data.iloc[:, -1:])\n",
        "\n",
        "df_x_ss = Variable(torch.Tensor(df_x_ss))\n",
        "df_y_ms = Variable(torch.Tensor(df_y_ms))\n",
        "df_x_ss = torch.reshape(df_x_ss, (df_x_ss.shape[0], 1, df_x_ss.shape[1]))"
      ],
      "metadata": {
        "id": "whtjsHUyZJLO"
      },
      "execution_count": 31,
      "outputs": []
    },
    {
      "cell_type": "code",
      "source": [
        "train_predict = model(df_x_ss)\n",
        "predicted = train_predict.data.numpy()\n",
        "label_y = df_y_ms.data.numpy()\n",
        "\n",
        "predicted= ms.inverse_transform(predicted)\n",
        "label_y = ms.inverse_transform(label_y)\n",
        "plt.figure(figsize=(10,6))\n",
        "plt.axvline(x=200, c='r', linestyle='--')\n",
        "\n",
        "plt.plot(label_y, label='Actual Data')\n",
        "plt.plot(predicted, label='Predicted Data')\n",
        "plt.title('Time-Series Prediction')\n",
        "plt.legend()\n",
        "plt.show()"
      ],
      "metadata": {
        "colab": {
          "base_uri": "https://localhost:8080/",
          "height": 475
        },
        "id": "lH8lB5z7Z8IW",
        "outputId": "846af5eb-dc7d-4006-d789-8958c76e99e5"
      },
      "execution_count": 32,
      "outputs": [
        {
          "output_type": "display_data",
          "data": {
            "text/plain": [
              "<Figure size 1000x600 with 1 Axes>"
            ],
            "image/png": "[encoded data removed]"
          },
          "metadata": {}
        }
      ]
    },
    {
      "cell_type": "code",
      "source": [
        "import os\n",
        "import time\n",
        "\n",
        "import numpy as np\n",
        "import pandas as pd\n",
        "import matplotlib.pyplot as plt\n",
        "import torch\n",
        "import torch.nn as nn\n",
        "from torch.utils.data import TensorDataset, DataLoader\n",
        "from torch.autograd import Variable\n",
        "from tqdm import tqdm_notebook\n",
        "from sklearn.preprocessing import StandardScaler, MinMaxScaler\n",
        "from sklearn.model_selection import train_test_split\n",
        "\n",
        "# Check if CUDA is available and set the device accordingly\n",
        "device = torch.device('cuda:0' if torch.cuda.is_available() else 'cpu')\n",
        "\n",
        "data = pd.read_csv('SBUX_max.csv')\n",
        "print(data.dtypes)\n",
        "\n",
        "data['Date'] = pd.to_datetime(data['Date'])\n",
        "data.set_index('Date', inplace=True)\n",
        "\n",
        "data['Volume'] = data['Volume'].astype(float)\n",
        "\n",
        "x = data.iloc[:, :-1]\n",
        "y = data.iloc[:, 5:6]\n",
        "print(x)\n",
        "print(y)\n",
        "\n",
        "ms = MinMaxScaler()\n",
        "ss = StandardScaler()\n",
        "\n",
        "x_ss = ss.fit_transform(x)\n",
        "y_ms = ms.fit_transform(y)\n",
        "\n",
        "x_train = x_ss[:200, :]\n",
        "x_test = x_ss[200:, :]\n",
        "\n",
        "y_train = y_ms[:200, :]\n",
        "y_test = y_ms[200:, :]\n",
        "\n",
        "print(\"Training Shape\", x_train.shape, y_train.shape)\n",
        "print(\"Testing Shape\", x_test.shape, y_test.shape)\n",
        "\n",
        "# Convert data to tensors and move to the appropriate device\n",
        "x_train_tensors = Variable(torch.Tensor(x_train)).to(device)\n",
        "x_test_tensors = Variable(torch.Tensor(x_test)).to(device)\n",
        "\n",
        "y_train_tensors = Variable(torch.Tensor(y_train)).to(device)\n",
        "y_test_tensors = Variable(torch.Tensor(y_test)).to(device)\n",
        "\n",
        "x_train_tensors_f = torch.reshape(x_train_tensors, (x_train_tensors.shape[0], 1, x_train_tensors.shape[1]))\n",
        "x_test_tensors_f = torch.reshape(x_test_tensors, (x_test_tensors.shape[0], 1, x_test_tensors.shape[1]))\n",
        "\n",
        "print(\"Training Shape\", x_train_tensors_f.shape, y_train_tensors.shape)\n",
        "print(\"Testing Shape\", x_test_tensors_f.shape, y_test_tensors.shape)\n",
        "\n",
        "class LSTM(nn.Module):\n",
        "    def __init__(self, num_classes, input_size, hidden_size, num_layers, seq_length):\n",
        "        super(LSTM, self).__init__()\n",
        "        self.num_classes = num_classes\n",
        "        self.num_layers = num_layers\n",
        "        self.input_size = input_size\n",
        "        self.hidden_size = hidden_size\n",
        "        self.seq_length = seq_length\n",
        "\n",
        "        self.lstm = nn.LSTM(input_size=input_size, hidden_size=hidden_size, num_layers=num_layers, batch_first=True)\n",
        "        self.fc_1 = nn.Linear(hidden_size, 128)\n",
        "        self.fc = nn.Linear(128, num_classes)\n",
        "\n",
        "        self.relu = nn.ReLU()\n",
        "\n",
        "    def forward(self, x):\n",
        "        h_0 = Variable(torch.zeros(self.num_layers, x.size(0), self.hidden_size)).to(device)\n",
        "        c_0 = Variable(torch.zeros(self.num_layers, x.size(0), self.hidden_size)).to(device)\n",
        "\n",
        "        output, (hn, cn) = self.lstm(x, (h_0, c_0))\n",
        "        hn = hn.view(-1, self.hidden_size)\n",
        "        out = self.relu(hn)\n",
        "        out = self.fc_1(out)\n",
        "        out = self.relu(out)\n",
        "        out = self.fc(out)\n",
        "        return out\n",
        "\n",
        "# Variable values\n",
        "num_epochs = 20000\n",
        "learning_rate = 0.0001\n",
        "\n",
        "input_size = 5\n",
        "hidden_size = 2\n",
        "num_layers = 1\n",
        "\n",
        "num_classes = 1\n",
        "model = LSTM(num_classes, input_size, hidden_size, num_layers, x_train_tensors_f.shape[1])\n",
        "\n",
        "criterion = torch.nn.MSELoss()\n",
        "optimizer = torch.optim.Adam(model.parameters(), lr=learning_rate)\n",
        "\n",
        "model = model.to(device)\n",
        "criterion = criterion.to(device)\n",
        "\n",
        "# Model training\n",
        "for epoch in range(num_epochs):\n",
        "    outputs = model.forward(x_train_tensors_f)\n",
        "    optimizer.zero_grad()\n",
        "    loss = criterion(outputs, y_train_tensors)\n",
        "    loss.backward()\n",
        "    optimizer.step()\n",
        "    if epoch % 100 == 0:\n",
        "        print(\"Epoch: %d, loss: %1.5f\" % (epoch, loss.item()))\n",
        "\n",
        "df_x_ss = ss.transform(data.iloc[:, :-1])\n",
        "df_y_ms = ms.transform(data.iloc[:, -1:])\n",
        "\n",
        "df_x_ss = Variable(torch.Tensor(df_x_ss)).to(device)\n",
        "df_y_ms = Variable(torch.Tensor(df_y_ms)).to(device)\n",
        "df_x_ss = torch.reshape(df_x_ss, (df_x_ss.shape[0], 1, df_x_ss.shape[1]))\n",
        "\n",
        "# Model prediction and visualization\n",
        "train_predict = model(df_x_ss)\n",
        "predicted = train_predict.data.cpu().numpy()\n",
        "label_y = df_y_ms.data.cpu().numpy()\n",
        "\n",
        "predicted = ms.inverse_transform(predicted)\n",
        "label_y = ms.inverse_transform(label_y)\n",
        "plt.figure(figsize=(10, 6))\n",
        "plt.axvline(x=200, c='r', linestyle='--')\n",
        "\n",
        "plt.plot(label_y, label='Actual Data')\n",
        "plt.plot(predicted, label='Predicted Data')\n",
        "plt.title('Time-Series Prediction')\n",
        "plt.legend()\n",
        "plt.show()"
      ],
      "metadata": {
        "colab": {
          "base_uri": "https://localhost:8080/",
          "height": 1000
        },
        "id": "a3iwFoVGguvL",
        "outputId": "d076f575-fc54-44cc-939d-dfcf3492e160"
      },
      "execution_count": 45,
      "outputs": [
        {
          "output_type": "stream",
          "name": "stdout",
          "text": [
            "Date          object\n",
            "Open         float64\n",
            "High         float64\n",
            "Low          float64\n",
            "Close        float64\n",
            "Adj Close    float64\n",
            "Volume         int64\n",
            "dtype: object\n",
            "                 Open       High        Low      Close  Adj Close\n",
            "Date                                                             \n",
            "1992-06-26   0.328125   0.347656   0.320313   0.335938   0.265714\n",
            "1992-06-29   0.339844   0.367188   0.332031   0.359375   0.284252\n",
            "1992-06-30   0.367188   0.371094   0.343750   0.347656   0.274982\n",
            "1992-07-01   0.351563   0.359375   0.339844   0.355469   0.281162\n",
            "1992-07-02   0.359375   0.359375   0.347656   0.355469   0.281162\n",
            "...               ...        ...        ...        ...        ...\n",
            "2023-08-17  99.000000  99.099998  96.430000  96.570000  96.570000\n",
            "2023-08-18  96.010002  97.489998  95.790001  97.230003  97.230003\n",
            "2023-08-21  97.320000  97.570000  96.160004  96.459999  96.459999\n",
            "2023-08-22  96.489998  96.739998  95.599998  96.070000  96.070000\n",
            "2023-08-23  96.419998  96.559998  94.010002  95.180000  95.180000\n",
            "\n",
            "[7847 rows x 5 columns]\n",
            "                 Volume\n",
            "Date                   \n",
            "1992-06-26  224358400.0\n",
            "1992-06-29   58732800.0\n",
            "1992-06-30   34777600.0\n",
            "1992-07-01   18316800.0\n",
            "1992-07-02   13996800.0\n",
            "...                 ...\n",
            "2023-08-17    5291100.0\n",
            "2023-08-18    4125500.0\n",
            "2023-08-21    3753200.0\n",
            "2023-08-22    3640500.0\n",
            "2023-08-23    9699100.0\n",
            "\n",
            "[7847 rows x 1 columns]\n",
            "Training Shape (200, 5) (200, 1)\n",
            "Testing Shape (7647, 5) (7647, 1)\n",
            "Training Shape torch.Size([200, 1, 5]) torch.Size([200, 1])\n",
            "Testing Shape torch.Size([7647, 1, 5]) torch.Size([7647, 1])\n",
            "Epoch: 0, loss: 0.00733\n",
            "Epoch: 100, loss: 0.00090\n",
            "Epoch: 200, loss: 0.00090\n",
            "Epoch: 300, loss: 0.00090\n",
            "Epoch: 400, loss: 0.00090\n",
            "Epoch: 500, loss: 0.00090\n",
            "Epoch: 600, loss: 0.00090\n",
            "Epoch: 700, loss: 0.00090\n",
            "Epoch: 800, loss: 0.00090\n",
            "Epoch: 900, loss: 0.00090\n",
            "Epoch: 1000, loss: 0.00090\n",
            "Epoch: 1100, loss: 0.00090\n",
            "Epoch: 1200, loss: 0.00090\n",
            "Epoch: 1300, loss: 0.00090\n",
            "Epoch: 1400, loss: 0.00090\n",
            "Epoch: 1500, loss: 0.00090\n",
            "Epoch: 1600, loss: 0.00090\n",
            "Epoch: 1700, loss: 0.00090\n",
            "Epoch: 1800, loss: 0.00090\n",
            "Epoch: 1900, loss: 0.00090\n",
            "Epoch: 2000, loss: 0.00090\n",
            "Epoch: 2100, loss: 0.00090\n",
            "Epoch: 2200, loss: 0.00090\n",
            "Epoch: 2300, loss: 0.00090\n",
            "Epoch: 2400, loss: 0.00090\n",
            "Epoch: 2500, loss: 0.00090\n",
            "Epoch: 2600, loss: 0.00090\n",
            "Epoch: 2700, loss: 0.00090\n",
            "Epoch: 2800, loss: 0.00090\n",
            "Epoch: 2900, loss: 0.00090\n",
            "Epoch: 3000, loss: 0.00090\n",
            "Epoch: 3100, loss: 0.00090\n",
            "Epoch: 3200, loss: 0.00090\n",
            "Epoch: 3300, loss: 0.00090\n",
            "Epoch: 3400, loss: 0.00090\n",
            "Epoch: 3500, loss: 0.00090\n",
            "Epoch: 3600, loss: 0.00090\n",
            "Epoch: 3700, loss: 0.00090\n",
            "Epoch: 3800, loss: 0.00090\n",
            "Epoch: 3900, loss: 0.00090\n",
            "Epoch: 4000, loss: 0.00090\n",
            "Epoch: 4100, loss: 0.00090\n",
            "Epoch: 4200, loss: 0.00090\n",
            "Epoch: 4300, loss: 0.00090\n",
            "Epoch: 4400, loss: 0.00090\n",
            "Epoch: 4500, loss: 0.00090\n",
            "Epoch: 4600, loss: 0.00090\n",
            "Epoch: 4700, loss: 0.00090\n",
            "Epoch: 4800, loss: 0.00090\n",
            "Epoch: 4900, loss: 0.00090\n",
            "Epoch: 5000, loss: 0.00090\n",
            "Epoch: 5100, loss: 0.00090\n",
            "Epoch: 5200, loss: 0.00090\n",
            "Epoch: 5300, loss: 0.00090\n",
            "Epoch: 5400, loss: 0.00090\n",
            "Epoch: 5500, loss: 0.00090\n",
            "Epoch: 5600, loss: 0.00090\n",
            "Epoch: 5700, loss: 0.00090\n",
            "Epoch: 5800, loss: 0.00090\n",
            "Epoch: 5900, loss: 0.00090\n",
            "Epoch: 6000, loss: 0.00090\n",
            "Epoch: 6100, loss: 0.00090\n",
            "Epoch: 6200, loss: 0.00090\n",
            "Epoch: 6300, loss: 0.00090\n",
            "Epoch: 6400, loss: 0.00090\n",
            "Epoch: 6500, loss: 0.00090\n",
            "Epoch: 6600, loss: 0.00090\n",
            "Epoch: 6700, loss: 0.00090\n",
            "Epoch: 6800, loss: 0.00090\n",
            "Epoch: 6900, loss: 0.00090\n",
            "Epoch: 7000, loss: 0.00090\n",
            "Epoch: 7100, loss: 0.00089\n",
            "Epoch: 7200, loss: 0.00089\n",
            "Epoch: 7300, loss: 0.00089\n",
            "Epoch: 7400, loss: 0.00089\n",
            "Epoch: 7500, loss: 0.00089\n",
            "Epoch: 7600, loss: 0.00089\n",
            "Epoch: 7700, loss: 0.00089\n",
            "Epoch: 7800, loss: 0.00089\n",
            "Epoch: 7900, loss: 0.00089\n",
            "Epoch: 8000, loss: 0.00089\n",
            "Epoch: 8100, loss: 0.00089\n",
            "Epoch: 8200, loss: 0.00089\n",
            "Epoch: 8300, loss: 0.00089\n",
            "Epoch: 8400, loss: 0.00089\n",
            "Epoch: 8500, loss: 0.00089\n",
            "Epoch: 8600, loss: 0.00089\n",
            "Epoch: 8700, loss: 0.00089\n",
            "Epoch: 8800, loss: 0.00089\n",
            "Epoch: 8900, loss: 0.00088\n",
            "Epoch: 9000, loss: 0.00088\n",
            "Epoch: 9100, loss: 0.00088\n",
            "Epoch: 9200, loss: 0.00088\n",
            "Epoch: 9300, loss: 0.00088\n",
            "Epoch: 9400, loss: 0.00088\n",
            "Epoch: 9500, loss: 0.00088\n",
            "Epoch: 9600, loss: 0.00088\n",
            "Epoch: 9700, loss: 0.00088\n",
            "Epoch: 9800, loss: 0.00088\n",
            "Epoch: 9900, loss: 0.00088\n",
            "Epoch: 10000, loss: 0.00088\n",
            "Epoch: 10100, loss: 0.00088\n",
            "Epoch: 10200, loss: 0.00088\n",
            "Epoch: 10300, loss: 0.00088\n",
            "Epoch: 10400, loss: 0.00088\n",
            "Epoch: 10500, loss: 0.00088\n",
            "Epoch: 10600, loss: 0.00088\n",
            "Epoch: 10700, loss: 0.00088\n",
            "Epoch: 10800, loss: 0.00088\n",
            "Epoch: 10900, loss: 0.00088\n",
            "Epoch: 11000, loss: 0.00088\n",
            "Epoch: 11100, loss: 0.00088\n",
            "Epoch: 11200, loss: 0.00088\n",
            "Epoch: 11300, loss: 0.00088\n",
            "Epoch: 11400, loss: 0.00088\n",
            "Epoch: 11500, loss: 0.00088\n",
            "Epoch: 11600, loss: 0.00088\n",
            "Epoch: 11700, loss: 0.00088\n",
            "Epoch: 11800, loss: 0.00088\n",
            "Epoch: 11900, loss: 0.00088\n",
            "Epoch: 12000, loss: 0.00088\n",
            "Epoch: 12100, loss: 0.00088\n",
            "Epoch: 12200, loss: 0.00088\n",
            "Epoch: 12300, loss: 0.00088\n",
            "Epoch: 12400, loss: 0.00088\n",
            "Epoch: 12500, loss: 0.00088\n",
            "Epoch: 12600, loss: 0.00088\n",
            "Epoch: 12700, loss: 0.00088\n",
            "Epoch: 12800, loss: 0.00088\n",
            "Epoch: 12900, loss: 0.00088\n",
            "Epoch: 13000, loss: 0.00088\n",
            "Epoch: 13100, loss: 0.00088\n",
            "Epoch: 13200, loss: 0.00088\n",
            "Epoch: 13300, loss: 0.00088\n",
            "Epoch: 13400, loss: 0.00088\n",
            "Epoch: 13500, loss: 0.00088\n",
            "Epoch: 13600, loss: 0.00088\n",
            "Epoch: 13700, loss: 0.00087\n",
            "Epoch: 13800, loss: 0.00087\n",
            "Epoch: 13900, loss: 0.00087\n",
            "Epoch: 14000, loss: 0.00087\n",
            "Epoch: 14100, loss: 0.00087\n",
            "Epoch: 14200, loss: 0.00087\n",
            "Epoch: 14300, loss: 0.00087\n",
            "Epoch: 14400, loss: 0.00087\n",
            "Epoch: 14500, loss: 0.00087\n",
            "Epoch: 14600, loss: 0.00087\n",
            "Epoch: 14700, loss: 0.00087\n",
            "Epoch: 14800, loss: 0.00087\n",
            "Epoch: 14900, loss: 0.00087\n",
            "Epoch: 15000, loss: 0.00087\n",
            "Epoch: 15100, loss: 0.00087\n",
            "Epoch: 15200, loss: 0.00087\n",
            "Epoch: 15300, loss: 0.00087\n",
            "Epoch: 15400, loss: 0.00087\n",
            "Epoch: 15500, loss: 0.00087\n",
            "Epoch: 15600, loss: 0.00087\n",
            "Epoch: 15700, loss: 0.00087\n",
            "Epoch: 15800, loss: 0.00087\n",
            "Epoch: 15900, loss: 0.00087\n",
            "Epoch: 16000, loss: 0.00087\n",
            "Epoch: 16100, loss: 0.00087\n",
            "Epoch: 16200, loss: 0.00087\n",
            "Epoch: 16300, loss: 0.00087\n",
            "Epoch: 16400, loss: 0.00087\n",
            "Epoch: 16500, loss: 0.00087\n",
            "Epoch: 16600, loss: 0.00087\n",
            "Epoch: 16700, loss: 0.00087\n",
            "Epoch: 16800, loss: 0.00087\n",
            "Epoch: 16900, loss: 0.00087\n",
            "Epoch: 17000, loss: 0.00087\n",
            "Epoch: 17100, loss: 0.00087\n",
            "Epoch: 17200, loss: 0.00087\n",
            "Epoch: 17300, loss: 0.00087\n",
            "Epoch: 17400, loss: 0.00087\n",
            "Epoch: 17500, loss: 0.00087\n",
            "Epoch: 17600, loss: 0.00087\n",
            "Epoch: 17700, loss: 0.00087\n",
            "Epoch: 17800, loss: 0.00087\n",
            "Epoch: 17900, loss: 0.00087\n",
            "Epoch: 18000, loss: 0.00087\n",
            "Epoch: 18100, loss: 0.00087\n",
            "Epoch: 18200, loss: 0.00087\n",
            "Epoch: 18300, loss: 0.00087\n",
            "Epoch: 18400, loss: 0.00087\n",
            "Epoch: 18500, loss: 0.00087\n",
            "Epoch: 18600, loss: 0.00087\n",
            "Epoch: 18700, loss: 0.00087\n",
            "Epoch: 18800, loss: 0.00087\n",
            "Epoch: 18900, loss: 0.00086\n",
            "Epoch: 19000, loss: 0.00086\n",
            "Epoch: 19100, loss: 0.00086\n",
            "Epoch: 19200, loss: 0.00086\n",
            "Epoch: 19300, loss: 0.00086\n",
            "Epoch: 19400, loss: 0.00086\n",
            "Epoch: 19500, loss: 0.00086\n",
            "Epoch: 19600, loss: 0.00086\n",
            "Epoch: 19700, loss: 0.00086\n",
            "Epoch: 19800, loss: 0.00086\n",
            "Epoch: 19900, loss: 0.00086\n"
          ]
        },
        {
          "output_type": "display_data",
          "data": {
            "text/plain": [
              "<Figure size 1000x600 with 1 Axes>"
            ],
            "image/png": "[encoded data removed]"
          },
          "metadata": {}
        }
      ]
    },
    {
      "cell_type": "markdown",
      "source": [
        "😱"
      ],
      "metadata": {
        "id": "eAt5Ue8bkpGq"
      }
    },
    {
      "cell_type": "code",
      "source": [],
      "metadata": {
        "id": "yyXH4k_ijU77"
      },
      "execution_count": null,
      "outputs": []
    }
  ]
}